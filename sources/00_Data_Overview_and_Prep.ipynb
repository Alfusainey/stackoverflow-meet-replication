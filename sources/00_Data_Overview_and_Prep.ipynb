{
 "cells": [
  {
   "cell_type": "code",
   "execution_count": 2,
   "id": "initial_id",
   "metadata": {
    "ExecuteTime": {
     "end_time": "2024-07-24T13:59:21.819871Z",
     "start_time": "2024-07-24T13:59:21.816488Z"
    },
    "collapsed": true
   },
   "outputs": [],
   "source": [
    "import pandas as pd"
   ]
  },
  {
   "cell_type": "markdown",
   "id": "b54b6d923a741009",
   "metadata": {},
   "source": [
    "Note: Stack Exchange datasets can be queried online: https://data.stackexchange.com/stackoverflow/query/new"
   ]
  },
  {
   "cell_type": "markdown",
   "id": "45ccce0dd0f1d5d0",
   "metadata": {},
   "source": [
    "# Posts"
   ]
  },
  {
   "cell_type": "markdown",
   "id": "3e1190531d956ba6",
   "metadata": {},
   "source": [
    "Stack Overflow has different types of posts, currently up to 8 types. Our work focuses on `Questions (Id=1)` and `Answers (Id=2)`. `Posts.csv` contains only answer and questions posts from the SOTorrent22 dataset."
   ]
  },
  {
   "cell_type": "code",
   "execution_count": 3,
   "id": "d468b4100ddcaf47",
   "metadata": {
    "ExecuteTime": {
     "end_time": "2024-07-22T13:47:20.636160Z",
     "start_time": "2024-07-22T13:45:56.210441Z"
    }
   },
   "outputs": [],
   "source": [
    "df_posts = pd.read_csv('data/database_export/Posts.tsv', sep='\\t')"
   ]
  },
  {
   "cell_type": "code",
   "execution_count": 4,
   "id": "c825164edb16620",
   "metadata": {
    "ExecuteTime": {
     "end_time": "2024-07-22T13:48:22.618546Z",
     "start_time": "2024-07-22T13:48:22.612329Z"
    }
   },
   "outputs": [
    {
     "data": {
      "text/plain": [
       "Index(['Id', 'PostTypeId', 'ParentId', 'CreationDate', 'DeletionDate',\n",
       "       'LastEditDate', 'Tags', 'AnswerCount', 'CommentCount'],\n",
       "      dtype='object')"
      ]
     },
     "metadata": {},
     "output_type": "display_data"
    }
   ],
   "source": [
    "display(df_posts.columns)"
   ]
  },
  {
   "cell_type": "code",
   "execution_count": 5,
   "id": "1742e7372ffec4d",
   "metadata": {
    "ExecuteTime": {
     "end_time": "2024-07-22T13:48:46.099355Z",
     "start_time": "2024-07-22T13:48:46.088913Z"
    }
   },
   "outputs": [
    {
     "data": {
      "text/html": [
       "<div>\n",
       "<style scoped>\n",
       "    .dataframe tbody tr th:only-of-type {\n",
       "        vertical-align: middle;\n",
       "    }\n",
       "\n",
       "    .dataframe tbody tr th {\n",
       "        vertical-align: top;\n",
       "    }\n",
       "\n",
       "    .dataframe thead th {\n",
       "        text-align: right;\n",
       "    }\n",
       "</style>\n",
       "<table border=\"1\" class=\"dataframe\">\n",
       "  <thead>\n",
       "    <tr style=\"text-align: right;\">\n",
       "      <th></th>\n",
       "      <th>Id</th>\n",
       "      <th>PostTypeId</th>\n",
       "      <th>ParentId</th>\n",
       "      <th>CreationDate</th>\n",
       "      <th>DeletionDate</th>\n",
       "      <th>LastEditDate</th>\n",
       "      <th>Tags</th>\n",
       "      <th>AnswerCount</th>\n",
       "      <th>CommentCount</th>\n",
       "    </tr>\n",
       "  </thead>\n",
       "  <tbody>\n",
       "    <tr>\n",
       "      <th>0</th>\n",
       "      <td>4</td>\n",
       "      <td>1</td>\n",
       "      <td>NaN</td>\n",
       "      <td>2008-07-31 21:42:52</td>\n",
       "      <td>NaN</td>\n",
       "      <td>2021-02-26 03:31:15</td>\n",
       "      <td>&lt;c#&gt;&lt;floating-point&gt;&lt;type-conversion&gt;&lt;double&gt;&lt;...</td>\n",
       "      <td>13.0</td>\n",
       "      <td>4</td>\n",
       "    </tr>\n",
       "    <tr>\n",
       "      <th>1</th>\n",
       "      <td>6</td>\n",
       "      <td>1</td>\n",
       "      <td>NaN</td>\n",
       "      <td>2008-07-31 22:08:08</td>\n",
       "      <td>NaN</td>\n",
       "      <td>2021-01-29 18:46:45</td>\n",
       "      <td>&lt;html&gt;&lt;css&gt;&lt;internet-explorer-7&gt;</td>\n",
       "      <td>7.0</td>\n",
       "      <td>0</td>\n",
       "    </tr>\n",
       "    <tr>\n",
       "      <th>2</th>\n",
       "      <td>7</td>\n",
       "      <td>2</td>\n",
       "      <td>4.0</td>\n",
       "      <td>2008-07-31 22:17:57</td>\n",
       "      <td>NaN</td>\n",
       "      <td>2019-10-21 14:03:54</td>\n",
       "      <td>NaN</td>\n",
       "      <td>NaN</td>\n",
       "      <td>0</td>\n",
       "    </tr>\n",
       "    <tr>\n",
       "      <th>3</th>\n",
       "      <td>9</td>\n",
       "      <td>1</td>\n",
       "      <td>NaN</td>\n",
       "      <td>2008-07-31 23:40:59</td>\n",
       "      <td>NaN</td>\n",
       "      <td>2022-03-25 01:14:33</td>\n",
       "      <td>&lt;c#&gt;&lt;.net&gt;&lt;datetime&gt;</td>\n",
       "      <td>70.0</td>\n",
       "      <td>10</td>\n",
       "    </tr>\n",
       "    <tr>\n",
       "      <th>4</th>\n",
       "      <td>11</td>\n",
       "      <td>1</td>\n",
       "      <td>NaN</td>\n",
       "      <td>2008-07-31 23:55:37</td>\n",
       "      <td>NaN</td>\n",
       "      <td>2017-06-04 15:51:19</td>\n",
       "      <td>&lt;c#&gt;&lt;datetime&gt;&lt;time&gt;&lt;datediff&gt;&lt;relative-time-s...</td>\n",
       "      <td>40.0</td>\n",
       "      <td>3</td>\n",
       "    </tr>\n",
       "  </tbody>\n",
       "</table>\n",
       "</div>"
      ],
      "text/plain": [
       "   Id  PostTypeId  ParentId         CreationDate  DeletionDate  \\\n",
       "0   4           1       NaN  2008-07-31 21:42:52           NaN   \n",
       "1   6           1       NaN  2008-07-31 22:08:08           NaN   \n",
       "2   7           2       4.0  2008-07-31 22:17:57           NaN   \n",
       "3   9           1       NaN  2008-07-31 23:40:59           NaN   \n",
       "4  11           1       NaN  2008-07-31 23:55:37           NaN   \n",
       "\n",
       "          LastEditDate                                               Tags  \\\n",
       "0  2021-02-26 03:31:15  <c#><floating-point><type-conversion><double><...   \n",
       "1  2021-01-29 18:46:45                   <html><css><internet-explorer-7>   \n",
       "2  2019-10-21 14:03:54                                                NaN   \n",
       "3  2022-03-25 01:14:33                               <c#><.net><datetime>   \n",
       "4  2017-06-04 15:51:19  <c#><datetime><time><datediff><relative-time-s...   \n",
       "\n",
       "   AnswerCount  CommentCount  \n",
       "0         13.0             4  \n",
       "1          7.0             0  \n",
       "2          NaN             0  \n",
       "3         70.0            10  \n",
       "4         40.0             3  "
      ]
     },
     "metadata": {},
     "output_type": "display_data"
    }
   ],
   "source": [
    "display(df_posts.head())"
   ]
  },
  {
   "cell_type": "code",
   "execution_count": 6,
   "id": "976c3e3842e1bc94",
   "metadata": {
    "ExecuteTime": {
     "end_time": "2024-07-22T13:50:00.299458Z",
     "start_time": "2024-07-22T13:49:47.451617Z"
    }
   },
   "outputs": [
    {
     "data": {
      "text/plain": [
       "Id                       int64\n",
       "PostTypeId               int64\n",
       "ParentId               float64\n",
       "CreationDate    datetime64[ns]\n",
       "DeletionDate           float64\n",
       "LastEditDate            object\n",
       "Tags                    object\n",
       "AnswerCount            float64\n",
       "CommentCount             int64\n",
       "dtype: object"
      ]
     },
     "execution_count": 6,
     "metadata": {},
     "output_type": "execute_result"
    }
   ],
   "source": [
    "# Convert CreationDate to datetime\n",
    "df_posts.CreationDate = pd.to_datetime(df_posts.CreationDate)\n",
    "df_posts.dtypes"
   ]
  },
  {
   "cell_type": "code",
   "execution_count": 7,
   "id": "c7349d101d06fb0",
   "metadata": {
    "ExecuteTime": {
     "end_time": "2024-07-22T13:50:16.472562Z",
     "start_time": "2024-07-22T13:50:15.948827Z"
    }
   },
   "outputs": [
    {
     "data": {
      "text/plain": [
       "PostTypeId\n",
       "2    33520483\n",
       "1    22634239\n",
       "Name: count, dtype: int64"
      ]
     },
     "metadata": {},
     "output_type": "display_data"
    }
   ],
   "source": [
    "nu_posttypes = df_posts.PostTypeId.value_counts()\n",
    "display(nu_posttypes)"
   ]
  },
  {
   "cell_type": "code",
   "execution_count": 8,
   "id": "3253691600812649",
   "metadata": {
    "ExecuteTime": {
     "end_time": "2024-07-22T11:50:25.146668Z",
     "start_time": "2024-07-22T11:50:25.143558Z"
    }
   },
   "outputs": [
    {
     "name": "stdout",
     "output_type": "stream",
     "text": [
      "Our SOTorrent data set has a total number of 56,154,722 of posts.\n"
     ]
    }
   ],
   "source": [
    "print(f\"Our SOTorrent data set has a total number of {df_posts.shape[0]:,} of posts.\")"
   ]
  },
  {
   "cell_type": "code",
   "execution_count": 9,
   "id": "d14cad5987367792",
   "metadata": {
    "ExecuteTime": {
     "end_time": "2024-07-22T11:50:25.150732Z",
     "start_time": "2024-07-22T11:50:25.148019Z"
    }
   },
   "outputs": [
    {
     "name": "stdout",
     "output_type": "stream",
     "text": [
      "This comprises 22,634,239 questions and 33,520,483 answers.\n"
     ]
    }
   ],
   "source": [
    "print(f\"This comprises {nu_posttypes[1]:,} questions and {nu_posttypes[2]:,} answers.\")"
   ]
  },
  {
   "cell_type": "code",
   "execution_count": 10,
   "id": "2a07524dae5d5ae8",
   "metadata": {
    "ExecuteTime": {
     "end_time": "2024-07-22T13:50:29.399117Z",
     "start_time": "2024-07-22T13:50:20.244744Z"
    }
   },
   "outputs": [],
   "source": [
    "# Save df_posts to feather file\n",
    "df_posts.to_feather('data/feather_files/Posts.feather')"
   ]
  },
  {
   "cell_type": "markdown",
   "id": "7eddd5fd3736f7f6",
   "metadata": {},
   "source": [
    "# PostHistory"
   ]
  },
  {
   "cell_type": "markdown",
   "id": "34aaffdd921f38e6",
   "metadata": {},
   "source": [
    "The `PostHistory` table contains the history of all posts on Stack Overflow. It includes information about the post's creation, edits, and deletions. The table on Stack Exchange has 22 columns, including the `PostHistoryTypeId` column, which indicates the type of history event. The `PostHistoryTypeId` column on Stack Exchange has 14 unique values, but we are only interested in the following types: `2`=`Initial Body` and `5`=`Edit Body`.\n",
    "Every entry in the PosHistory table can have a commit message that describes the change made to the post, which we omitted here but which can be retrieved from the original dataset on Stack Exchange (see link at the top)."
   ]
  },
  {
   "cell_type": "markdown",
   "id": "d078f87dd11d2466",
   "metadata": {},
   "source": [
    "However, we will not use this table of Stack Exchange, since the SOTorrent data contains a more concise version of the `PostHistory` table, which is the `PostVersion` table. This table links together the various other tables in the SOTorrent dataset."
   ]
  },
  {
   "cell_type": "markdown",
   "id": "b53a1b052ec794b0",
   "metadata": {},
   "source": [
    "# PostVersion"
   ]
  },
  {
   "cell_type": "markdown",
   "id": "f9b763a6b532bf96",
   "metadata": {},
   "source": [
    "The `SOTorrent` dataset added a dedicated `PostVersion` table for storing only edits made to the content of posts or when a post is rollbacked. For instance, if a question post is edited and new tags are added (i.e., `PostHistoryTypeId=6`) to the question, the edit is captured in the PostHistory table but not in the PostVersion table.\n",
    "\n",
    "This means that the only PostHistory types in the PostVersion table are (2, 5, 8) which corresponds to `Initial Body`, `Edit Body` and `Rollback Body` respectively.\n",
    "\n",
    "The `PostHistory` and `PostVersion` table are linked via the `Id` field of the `PostHistory` table. The `PostHistoryId` field of the PostVersion tables links the table to the `PostHistory` table. For instance, if you want to know the `User` that created a version of a post, you can get that information from the `PostHistory`table since the two tables are linked."
   ]
  },
  {
   "cell_type": "code",
   "execution_count": 11,
   "id": "7936f58e6098c48c",
   "metadata": {
    "ExecuteTime": {
     "end_time": "2024-07-22T13:43:38.455125Z",
     "start_time": "2024-07-22T13:41:35.268371Z"
    }
   },
   "outputs": [],
   "source": [
    "df_postversion = pd.read_csv(\"data/database_export/PostVersion.tsv\", sep='\\t')"
   ]
  },
  {
   "cell_type": "code",
   "execution_count": 12,
   "id": "f14f5def6e9466be",
   "metadata": {
    "ExecuteTime": {
     "end_time": "2024-07-22T13:45:05.459406Z",
     "start_time": "2024-07-22T13:45:03.093251Z"
    }
   },
   "outputs": [],
   "source": [
    "df_postversion.CreationDate = pd.to_datetime(df_postversion.CreationDate)\n",
    "df_postversion.PredPostHistoryId = df_postversion.PredPostHistoryId.fillna(0).astype(int)\n",
    "df_postversion.SuccPostHistoryId = df_postversion.SuccPostHistoryId.fillna(0).astype(int)"
   ]
  },
  {
   "cell_type": "code",
   "execution_count": 13,
   "id": "90da1a99ffbb844a",
   "metadata": {
    "ExecuteTime": {
     "end_time": "2024-07-22T13:45:19.552100Z",
     "start_time": "2024-07-22T13:45:19.547208Z"
    }
   },
   "outputs": [
    {
     "data": {
      "text/plain": [
       "Id                            int64\n",
       "PostId                        int64\n",
       "PostTypeId                    int64\n",
       "PostHistoryId                 int64\n",
       "PostHistoryTypeId             int64\n",
       "CreationDate         datetime64[ns]\n",
       "PredPostHistoryId             int64\n",
       "SuccPostHistoryId             int64\n",
       "MostRecentVersion             int64\n",
       "dtype: object"
      ]
     },
     "execution_count": 13,
     "metadata": {},
     "output_type": "execute_result"
    }
   ],
   "source": [
    "df_postversion.dtypes"
   ]
  },
  {
   "cell_type": "code",
   "execution_count": 14,
   "id": "4d5f1247b0455776",
   "metadata": {
    "ExecuteTime": {
     "end_time": "2024-07-22T13:45:24.942376Z",
     "start_time": "2024-07-22T13:45:24.933030Z"
    }
   },
   "outputs": [
    {
     "data": {
      "text/html": [
       "<div>\n",
       "<style scoped>\n",
       "    .dataframe tbody tr th:only-of-type {\n",
       "        vertical-align: middle;\n",
       "    }\n",
       "\n",
       "    .dataframe tbody tr th {\n",
       "        vertical-align: top;\n",
       "    }\n",
       "\n",
       "    .dataframe thead th {\n",
       "        text-align: right;\n",
       "    }\n",
       "</style>\n",
       "<table border=\"1\" class=\"dataframe\">\n",
       "  <thead>\n",
       "    <tr style=\"text-align: right;\">\n",
       "      <th></th>\n",
       "      <th>Id</th>\n",
       "      <th>PostId</th>\n",
       "      <th>PostTypeId</th>\n",
       "      <th>PostHistoryId</th>\n",
       "      <th>PostHistoryTypeId</th>\n",
       "      <th>CreationDate</th>\n",
       "      <th>PredPostHistoryId</th>\n",
       "      <th>SuccPostHistoryId</th>\n",
       "      <th>MostRecentVersion</th>\n",
       "    </tr>\n",
       "  </thead>\n",
       "  <tbody>\n",
       "    <tr>\n",
       "      <th>0</th>\n",
       "      <td>1</td>\n",
       "      <td>13646426</td>\n",
       "      <td>1</td>\n",
       "      <td>32556579</td>\n",
       "      <td>2</td>\n",
       "      <td>2012-11-30 13:41:44</td>\n",
       "      <td>0</td>\n",
       "      <td>0</td>\n",
       "      <td>1</td>\n",
       "    </tr>\n",
       "    <tr>\n",
       "      <th>1</th>\n",
       "      <td>2</td>\n",
       "      <td>25989369</td>\n",
       "      <td>1</td>\n",
       "      <td>74075424</td>\n",
       "      <td>2</td>\n",
       "      <td>2014-09-23 07:29:34</td>\n",
       "      <td>0</td>\n",
       "      <td>0</td>\n",
       "      <td>1</td>\n",
       "    </tr>\n",
       "    <tr>\n",
       "      <th>2</th>\n",
       "      <td>3</td>\n",
       "      <td>37759745</td>\n",
       "      <td>1</td>\n",
       "      <td>120182375</td>\n",
       "      <td>2</td>\n",
       "      <td>2016-06-11 03:54:15</td>\n",
       "      <td>0</td>\n",
       "      <td>120194969</td>\n",
       "      <td>0</td>\n",
       "    </tr>\n",
       "    <tr>\n",
       "      <th>3</th>\n",
       "      <td>4</td>\n",
       "      <td>61414546</td>\n",
       "      <td>1</td>\n",
       "      <td>220036678</td>\n",
       "      <td>2</td>\n",
       "      <td>2020-04-24 17:56:14</td>\n",
       "      <td>0</td>\n",
       "      <td>220073195</td>\n",
       "      <td>0</td>\n",
       "    </tr>\n",
       "    <tr>\n",
       "      <th>4</th>\n",
       "      <td>5</td>\n",
       "      <td>37759745</td>\n",
       "      <td>1</td>\n",
       "      <td>120194969</td>\n",
       "      <td>5</td>\n",
       "      <td>2016-06-11 11:08:04</td>\n",
       "      <td>120182375</td>\n",
       "      <td>0</td>\n",
       "      <td>1</td>\n",
       "    </tr>\n",
       "    <tr>\n",
       "      <th>...</th>\n",
       "      <td>...</td>\n",
       "      <td>...</td>\n",
       "      <td>...</td>\n",
       "      <td>...</td>\n",
       "      <td>...</td>\n",
       "      <td>...</td>\n",
       "      <td>...</td>\n",
       "      <td>...</td>\n",
       "      <td>...</td>\n",
       "    </tr>\n",
       "    <tr>\n",
       "      <th>89524315</th>\n",
       "      <td>89524316</td>\n",
       "      <td>45760362</td>\n",
       "      <td>2</td>\n",
       "      <td>154260519</td>\n",
       "      <td>2</td>\n",
       "      <td>2017-08-18 15:39:00</td>\n",
       "      <td>0</td>\n",
       "      <td>0</td>\n",
       "      <td>1</td>\n",
       "    </tr>\n",
       "    <tr>\n",
       "      <th>89524316</th>\n",
       "      <td>89524317</td>\n",
       "      <td>45760364</td>\n",
       "      <td>2</td>\n",
       "      <td>154260527</td>\n",
       "      <td>2</td>\n",
       "      <td>2017-08-18 15:39:04</td>\n",
       "      <td>0</td>\n",
       "      <td>0</td>\n",
       "      <td>1</td>\n",
       "    </tr>\n",
       "    <tr>\n",
       "      <th>89524317</th>\n",
       "      <td>89524318</td>\n",
       "      <td>45760365</td>\n",
       "      <td>2</td>\n",
       "      <td>154260528</td>\n",
       "      <td>2</td>\n",
       "      <td>2017-08-18 15:39:04</td>\n",
       "      <td>0</td>\n",
       "      <td>154260951</td>\n",
       "      <td>0</td>\n",
       "    </tr>\n",
       "    <tr>\n",
       "      <th>89524318</th>\n",
       "      <td>89524319</td>\n",
       "      <td>45760365</td>\n",
       "      <td>2</td>\n",
       "      <td>154260951</td>\n",
       "      <td>5</td>\n",
       "      <td>2017-08-18 15:44:40</td>\n",
       "      <td>154260528</td>\n",
       "      <td>154261261</td>\n",
       "      <td>0</td>\n",
       "    </tr>\n",
       "    <tr>\n",
       "      <th>89524319</th>\n",
       "      <td>89524320</td>\n",
       "      <td>45760365</td>\n",
       "      <td>2</td>\n",
       "      <td>154261261</td>\n",
       "      <td>5</td>\n",
       "      <td>2017-08-18 15:49:41</td>\n",
       "      <td>154260951</td>\n",
       "      <td>0</td>\n",
       "      <td>1</td>\n",
       "    </tr>\n",
       "  </tbody>\n",
       "</table>\n",
       "<p>89524320 rows × 9 columns</p>\n",
       "</div>"
      ],
      "text/plain": [
       "                Id    PostId  PostTypeId  PostHistoryId  PostHistoryTypeId  \\\n",
       "0                1  13646426           1       32556579                  2   \n",
       "1                2  25989369           1       74075424                  2   \n",
       "2                3  37759745           1      120182375                  2   \n",
       "3                4  61414546           1      220036678                  2   \n",
       "4                5  37759745           1      120194969                  5   \n",
       "...            ...       ...         ...            ...                ...   \n",
       "89524315  89524316  45760362           2      154260519                  2   \n",
       "89524316  89524317  45760364           2      154260527                  2   \n",
       "89524317  89524318  45760365           2      154260528                  2   \n",
       "89524318  89524319  45760365           2      154260951                  5   \n",
       "89524319  89524320  45760365           2      154261261                  5   \n",
       "\n",
       "                CreationDate  PredPostHistoryId  SuccPostHistoryId  \\\n",
       "0        2012-11-30 13:41:44                  0                  0   \n",
       "1        2014-09-23 07:29:34                  0                  0   \n",
       "2        2016-06-11 03:54:15                  0          120194969   \n",
       "3        2020-04-24 17:56:14                  0          220073195   \n",
       "4        2016-06-11 11:08:04          120182375                  0   \n",
       "...                      ...                ...                ...   \n",
       "89524315 2017-08-18 15:39:00                  0                  0   \n",
       "89524316 2017-08-18 15:39:04                  0                  0   \n",
       "89524317 2017-08-18 15:39:04                  0          154260951   \n",
       "89524318 2017-08-18 15:44:40          154260528          154261261   \n",
       "89524319 2017-08-18 15:49:41          154260951                  0   \n",
       "\n",
       "          MostRecentVersion  \n",
       "0                         1  \n",
       "1                         1  \n",
       "2                         0  \n",
       "3                         0  \n",
       "4                         1  \n",
       "...                     ...  \n",
       "89524315                  1  \n",
       "89524316                  1  \n",
       "89524317                  0  \n",
       "89524318                  0  \n",
       "89524319                  1  \n",
       "\n",
       "[89524320 rows x 9 columns]"
      ]
     },
     "metadata": {},
     "output_type": "display_data"
    }
   ],
   "source": [
    "display(df_postversion)"
   ]
  },
  {
   "cell_type": "code",
   "execution_count": 15,
   "id": "5dd2eed08ebf1896",
   "metadata": {
    "ExecuteTime": {
     "end_time": "2024-07-22T13:45:35.498083Z",
     "start_time": "2024-07-22T13:45:31.898511Z"
    }
   },
   "outputs": [],
   "source": [
    "df_postversion.to_feather(\"data/feather_files/PostVersion.feather\")"
   ]
  },
  {
   "cell_type": "markdown",
   "id": "a491ec894da54e45",
   "metadata": {},
   "source": [
    "# PostVersionData"
   ]
  },
  {
   "cell_type": "code",
   "execution_count": 16,
   "id": "d4b150d513407e36",
   "metadata": {
    "ExecuteTime": {
     "end_time": "2024-07-23T10:32:48.255314Z",
     "start_time": "2024-07-23T10:31:58.754089Z"
    }
   },
   "outputs": [],
   "source": [
    "df_postversiondata = pd.read_csv('data/database_export/PostVersionData.tsv', sep='\\t')"
   ]
  },
  {
   "cell_type": "code",
   "execution_count": 17,
   "id": "c2f54c7469d722e3",
   "metadata": {
    "ExecuteTime": {
     "end_time": "2024-07-23T10:33:13.586954Z",
     "start_time": "2024-07-23T10:33:13.580441Z"
    }
   },
   "outputs": [
    {
     "data": {
      "text/plain": [
       "Index(['Id', 'PostId', 'PostVersionId', 'PostHistoryId',\n",
       "       'RootPostBlockVersionId', 'PostBlockVersionId', 'Label'],\n",
       "      dtype='object')"
      ]
     },
     "metadata": {},
     "output_type": "display_data"
    }
   ],
   "source": [
    "display(df_postversiondata.columns)"
   ]
  },
  {
   "cell_type": "code",
   "execution_count": 18,
   "id": "47f5a43494e2c97b",
   "metadata": {
    "ExecuteTime": {
     "end_time": "2024-07-23T10:33:16.866916Z",
     "start_time": "2024-07-23T10:33:16.859051Z"
    }
   },
   "outputs": [
    {
     "data": {
      "text/plain": [
       "Id                        int64\n",
       "PostId                    int64\n",
       "PostVersionId             int64\n",
       "PostHistoryId             int64\n",
       "RootPostBlockVersionId    int64\n",
       "PostBlockVersionId        int64\n",
       "Label                     int64\n",
       "dtype: object"
      ]
     },
     "execution_count": 18,
     "metadata": {},
     "output_type": "execute_result"
    }
   ],
   "source": [
    "df_postversiondata.dtypes"
   ]
  },
  {
   "cell_type": "code",
   "execution_count": 19,
   "id": "1bd51df132ac6e4b",
   "metadata": {
    "ExecuteTime": {
     "end_time": "2024-07-23T10:33:25.580825Z",
     "start_time": "2024-07-23T10:33:22.673056Z"
    }
   },
   "outputs": [],
   "source": [
    "df_postversiondata.to_feather('data/feather_files/PostVersionData.feather')"
   ]
  },
  {
   "cell_type": "markdown",
   "id": "a119443f67e1313c",
   "metadata": {},
   "source": [
    "# PostBlockVersion"
   ]
  },
  {
   "cell_type": "markdown",
   "id": "fec5c5a8ec3a312e",
   "metadata": {},
   "source": [
    "Every `Post` consists of text blocks (`PostBlockTypeId=1`) and code blocks (`PostBlockTypeId=2`). The `PostBlockVersion` table contains the history of all text and code blocks of posts on Stack Overflow. It includes information about the block's creation, edits, and deletions."
   ]
  },
  {
   "cell_type": "code",
   "execution_count": 20,
   "id": "7d99e6851225b4d5",
   "metadata": {
    "ExecuteTime": {
     "end_time": "2024-07-22T14:31:10.217983Z",
     "start_time": "2024-07-22T14:26:55.466642Z"
    }
   },
   "outputs": [],
   "source": [
    "df_postblockversion = pd.read_csv('data/database_export/PostBlockVersion.tsv', sep='\\t')"
   ]
  },
  {
   "cell_type": "code",
   "execution_count": 21,
   "id": "151f02303b4b573b",
   "metadata": {
    "ExecuteTime": {
     "end_time": "2024-07-22T11:57:41.023554Z",
     "start_time": "2024-07-22T11:57:41.006414Z"
    }
   },
   "outputs": [
    {
     "data": {
      "text/plain": [
       "Index(['Id', 'PostBlockTypeId', 'PostId', 'PostHistoryId',\n",
       "       'PredPostBlockVersionId', 'PredPostHistoryId', 'RootPostBlockVersionId',\n",
       "       'RootPostHistoryId', 'LineCount', 'MostRecentVersion'],\n",
       "      dtype='object')"
      ]
     },
     "metadata": {},
     "output_type": "display_data"
    }
   ],
   "source": [
    "display(df_postblockversion.columns)"
   ]
  },
  {
   "cell_type": "code",
   "execution_count": 22,
   "id": "b1d1c5f7b5edf83c",
   "metadata": {
    "ExecuteTime": {
     "end_time": "2024-07-22T11:57:43.063021Z",
     "start_time": "2024-07-22T11:57:41.025214Z"
    }
   },
   "outputs": [
    {
     "data": {
      "text/plain": [
       "PostBlockTypeId\n",
       "1    167043851\n",
       "2    109547454\n",
       "Name: count, dtype: int64"
      ]
     },
     "metadata": {},
     "output_type": "display_data"
    }
   ],
   "source": [
    "nu_postblocktypes = df_postblockversion.PostBlockTypeId.value_counts()\n",
    "display(nu_postblocktypes)"
   ]
  },
  {
   "cell_type": "code",
   "execution_count": 23,
   "id": "1ae9b9e849b9da7a",
   "metadata": {
    "ExecuteTime": {
     "end_time": "2024-07-22T11:57:43.068246Z",
     "start_time": "2024-07-22T11:57:43.064723Z"
    }
   },
   "outputs": [
    {
     "name": "stdout",
     "output_type": "stream",
     "text": [
      "Our SOTorrent22 data set has a total number of 276,591,305 of post block versions.\n"
     ]
    }
   ],
   "source": [
    "print(f\"Our SOTorrent22 data set has a total number of {df_postblockversion.shape[0]:,} of post block versions.\")"
   ]
  },
  {
   "cell_type": "code",
   "execution_count": 24,
   "id": "a805ceb0402ce97",
   "metadata": {
    "ExecuteTime": {
     "end_time": "2024-07-22T11:57:43.073273Z",
     "start_time": "2024-07-22T11:57:43.069811Z"
    }
   },
   "outputs": [
    {
     "name": "stdout",
     "output_type": "stream",
     "text": [
      "This comprises 167,043,851 text block versions and 109,547,454 code blocks versions.\n"
     ]
    }
   ],
   "source": [
    "print(f\"This comprises {nu_postblocktypes[1]:,} text block versions and {nu_postblocktypes[2]:,} code blocks versions.\")"
   ]
  },
  {
   "cell_type": "code",
   "execution_count": 25,
   "id": "eae266fe9697d854",
   "metadata": {
    "ExecuteTime": {
     "end_time": "2024-07-22T11:58:43.928779Z",
     "start_time": "2024-07-22T11:58:29.618159Z"
    }
   },
   "outputs": [],
   "source": [
    "# Save df_postblockversion to feather file\n",
    "df_postblockversion.to_feather('data/feather_files/PostBlockVersion.feather')"
   ]
  },
  {
   "cell_type": "markdown",
   "id": "7dadc40503c56251",
   "metadata": {},
   "source": [
    "# CodeBlockVersion"
   ]
  },
  {
   "cell_type": "markdown",
   "id": "3ae9e6a97a0eb24c",
   "metadata": {},
   "source": [
    "The `CodeBlockVersion` table contains the language of each code block, detect with Guesslang."
   ]
  },
  {
   "cell_type": "code",
   "execution_count": 26,
   "id": "658a1cd3c3a59283",
   "metadata": {
    "ExecuteTime": {
     "end_time": "2024-07-22T11:58:54.401458Z",
     "start_time": "2024-07-22T11:58:43.930263Z"
    }
   },
   "outputs": [],
   "source": [
    "df_codeblockversion = pd.read_csv('data/database_export/CodeBlockVersion.tsv', sep='\\t')"
   ]
  },
  {
   "cell_type": "code",
   "execution_count": 27,
   "id": "7f7b40662fac1b72",
   "metadata": {
    "ExecuteTime": {
     "end_time": "2024-07-22T11:58:54.406393Z",
     "start_time": "2024-07-22T11:58:54.402803Z"
    }
   },
   "outputs": [
    {
     "data": {
      "text/plain": [
       "Index(['Id', 'PostBlockVersionId', 'RootPostBlockVersionId', 'Language'], dtype='object')"
      ]
     },
     "metadata": {},
     "output_type": "display_data"
    }
   ],
   "source": [
    "display(df_codeblockversion.columns)"
   ]
  },
  {
   "cell_type": "code",
   "execution_count": 28,
   "id": "77ee66b7bd2c6335",
   "metadata": {
    "ExecuteTime": {
     "end_time": "2024-07-22T11:58:56.854675Z",
     "start_time": "2024-07-22T11:58:54.407416Z"
    }
   },
   "outputs": [],
   "source": [
    "# Save df_codeblockversion to feather file\n",
    "df_codeblockversion.to_feather('data/feather_files/CodeBlockVersion.feather')"
   ]
  },
  {
   "cell_type": "markdown",
   "id": "241b5098d24055cf",
   "metadata": {},
   "source": [
    "# SecurityRelevantCommits"
   ]
  },
  {
   "cell_type": "markdown",
   "id": "a340450095882a9d",
   "metadata": {},
   "source": [
    "The `SR_Commits` table contains the security-relevance classification of each commit based on the commit message of the `PostVersion`."
   ]
  },
  {
   "cell_type": "code",
   "execution_count": 29,
   "id": "f5326e6cd6a724d",
   "metadata": {
    "ExecuteTime": {
     "end_time": "2024-07-22T11:59:14.516369Z",
     "start_time": "2024-07-22T11:58:56.857845Z"
    }
   },
   "outputs": [],
   "source": [
    "df_sr_commits = pd.read_csv('data/database_export/SecurityRelevantCommits.tsv', sep='\\t', dtype={'Id':int, 'PostVersionId':int, 'IsRelevant':int, 'PostId':int})"
   ]
  },
  {
   "cell_type": "code",
   "execution_count": 30,
   "id": "11643dd1d8df6717",
   "metadata": {
    "ExecuteTime": {
     "end_time": "2024-07-22T11:59:14.522217Z",
     "start_time": "2024-07-22T11:59:14.518289Z"
    }
   },
   "outputs": [
    {
     "data": {
      "text/plain": [
       "Index(['PostId', 'PostVersionId', 'IsRelevant'], dtype='object')"
      ]
     },
     "metadata": {},
     "output_type": "display_data"
    }
   ],
   "source": [
    "display(df_sr_commits.columns)"
   ]
  },
  {
   "cell_type": "code",
   "execution_count": 31,
   "id": "f34dc7760f9ffe21",
   "metadata": {
    "ExecuteTime": {
     "end_time": "2024-07-22T11:59:14.834901Z",
     "start_time": "2024-07-22T11:59:14.523732Z"
    }
   },
   "outputs": [
    {
     "data": {
      "text/plain": [
       "IsRelevant\n",
       "-1    64036788\n",
       " 0     5848545\n",
       " 1      777264\n",
       "Name: count, dtype: int64"
      ]
     },
     "metadata": {},
     "output_type": "display_data"
    }
   ],
   "source": [
    "nu_sr_commits = df_sr_commits.IsRelevant.value_counts()\n",
    "display(nu_sr_commits)"
   ]
  },
  {
   "cell_type": "code",
   "execution_count": 32,
   "id": "56640b405f0396d8",
   "metadata": {
    "ExecuteTime": {
     "end_time": "2024-07-22T11:59:16.418459Z",
     "start_time": "2024-07-22T11:59:14.836047Z"
    }
   },
   "outputs": [],
   "source": [
    "# Save df_sr_commits to feather file\n",
    "df_sr_commits.to_feather('data/feather_files/SecurityRelevantCommits.feather')"
   ]
  },
  {
   "cell_type": "markdown",
   "id": "2dedc950e0bfd4d9",
   "metadata": {},
   "source": [
    "# SecurityRelevantComments"
   ]
  },
  {
   "cell_type": "code",
   "execution_count": 33,
   "id": "569ad88d39642e53",
   "metadata": {
    "ExecuteTime": {
     "end_time": "2024-07-23T12:58:06.485908Z",
     "start_time": "2024-07-23T12:57:26.632240Z"
    }
   },
   "outputs": [],
   "source": [
    "df_sr_comments = pd.read_csv('data/database_export/SecurityRelevantComments.tsv', sep='\\t')"
   ]
  },
  {
   "cell_type": "code",
   "execution_count": 34,
   "id": "7b936f09fb0be221",
   "metadata": {
    "ExecuteTime": {
     "end_time": "2024-07-23T12:58:19.808714Z",
     "start_time": "2024-07-23T12:58:19.797982Z"
    }
   },
   "outputs": [
    {
     "data": {
      "text/plain": [
       "Index(['Id', 'CommentId', 'PostId', 'CommentDate', 'IsRelevant'], dtype='object')"
      ]
     },
     "metadata": {},
     "output_type": "display_data"
    }
   ],
   "source": [
    "display(df_sr_comments.columns)"
   ]
  },
  {
   "cell_type": "code",
   "execution_count": 35,
   "id": "ea9254a7f8897718",
   "metadata": {
    "ExecuteTime": {
     "end_time": "2024-07-23T12:59:17.803745Z",
     "start_time": "2024-07-23T12:59:17.592233Z"
    }
   },
   "outputs": [
    {
     "data": {
      "text/plain": [
       "IsRelevant\n",
       "0    45095570\n",
       "1     3991533\n",
       "Name: count, dtype: int64"
      ]
     },
     "metadata": {},
     "output_type": "display_data"
    }
   ],
   "source": [
    "nu_sr_comments = df_sr_comments.IsRelevant.value_counts()\n",
    "display(nu_sr_comments)"
   ]
  },
  {
   "cell_type": "code",
   "execution_count": 36,
   "id": "b79251da31b78026",
   "metadata": {
    "ExecuteTime": {
     "end_time": "2024-07-23T12:58:59.500588Z",
     "start_time": "2024-07-23T12:58:54.825517Z"
    }
   },
   "outputs": [],
   "source": [
    "# Save df_sr_comments to feather file\n",
    "df_sr_comments.to_feather('data/feather_files/SecurityRelevantComments.feather')"
   ]
  },
  {
   "cell_type": "markdown",
   "id": "9c56b9d883cd44af",
   "metadata": {},
   "source": [
    "# CommonMark Edits"
   ]
  },
  {
   "cell_type": "markdown",
   "id": "737d624d20605100",
   "metadata": {},
   "source": [
    "The `CommonMarkEdits` table contains the `PostHistoryId` of each edit due to the CommonMark transformation of StackOverflow posts in June 2020."
   ]
  },
  {
   "cell_type": "code",
   "execution_count": 37,
   "id": "8552d27e3e0b6d20",
   "metadata": {
    "ExecuteTime": {
     "end_time": "2024-07-22T16:48:22.925734Z",
     "start_time": "2024-07-22T16:48:22.765469Z"
    }
   },
   "outputs": [
    {
     "data": {
      "text/html": [
       "<div>\n",
       "<style scoped>\n",
       "    .dataframe tbody tr th:only-of-type {\n",
       "        vertical-align: middle;\n",
       "    }\n",
       "\n",
       "    .dataframe tbody tr th {\n",
       "        vertical-align: top;\n",
       "    }\n",
       "\n",
       "    .dataframe thead th {\n",
       "        text-align: right;\n",
       "    }\n",
       "</style>\n",
       "<table border=\"1\" class=\"dataframe\">\n",
       "  <thead>\n",
       "    <tr style=\"text-align: right;\">\n",
       "      <th></th>\n",
       "      <th>Id</th>\n",
       "      <th>CreationDate</th>\n",
       "    </tr>\n",
       "  </thead>\n",
       "  <tbody>\n",
       "    <tr>\n",
       "      <th>0</th>\n",
       "      <td>224508120</td>\n",
       "      <td>2020-06-20 09:12:55</td>\n",
       "    </tr>\n",
       "    <tr>\n",
       "      <th>1</th>\n",
       "      <td>224508121</td>\n",
       "      <td>2020-06-20 09:12:55</td>\n",
       "    </tr>\n",
       "    <tr>\n",
       "      <th>2</th>\n",
       "      <td>224508122</td>\n",
       "      <td>2020-06-20 09:12:55</td>\n",
       "    </tr>\n",
       "    <tr>\n",
       "      <th>3</th>\n",
       "      <td>224508123</td>\n",
       "      <td>2020-06-20 09:12:55</td>\n",
       "    </tr>\n",
       "    <tr>\n",
       "      <th>4</th>\n",
       "      <td>224508124</td>\n",
       "      <td>2020-06-20 09:12:55</td>\n",
       "    </tr>\n",
       "    <tr>\n",
       "      <th>...</th>\n",
       "      <td>...</td>\n",
       "      <td>...</td>\n",
       "    </tr>\n",
       "    <tr>\n",
       "      <th>338617</th>\n",
       "      <td>224892323</td>\n",
       "      <td>2020-06-20 09:12:55</td>\n",
       "    </tr>\n",
       "    <tr>\n",
       "      <th>338618</th>\n",
       "      <td>224892324</td>\n",
       "      <td>2020-06-20 09:12:55</td>\n",
       "    </tr>\n",
       "    <tr>\n",
       "      <th>338619</th>\n",
       "      <td>224892325</td>\n",
       "      <td>2020-06-20 09:12:55</td>\n",
       "    </tr>\n",
       "    <tr>\n",
       "      <th>338620</th>\n",
       "      <td>224892326</td>\n",
       "      <td>2020-06-20 09:12:55</td>\n",
       "    </tr>\n",
       "    <tr>\n",
       "      <th>338621</th>\n",
       "      <td>224892327</td>\n",
       "      <td>2020-06-20 09:12:55</td>\n",
       "    </tr>\n",
       "  </tbody>\n",
       "</table>\n",
       "<p>338622 rows × 2 columns</p>\n",
       "</div>"
      ],
      "text/plain": [
       "               Id        CreationDate\n",
       "0       224508120 2020-06-20 09:12:55\n",
       "1       224508121 2020-06-20 09:12:55\n",
       "2       224508122 2020-06-20 09:12:55\n",
       "3       224508123 2020-06-20 09:12:55\n",
       "4       224508124 2020-06-20 09:12:55\n",
       "...           ...                 ...\n",
       "338617  224892323 2020-06-20 09:12:55\n",
       "338618  224892324 2020-06-20 09:12:55\n",
       "338619  224892325 2020-06-20 09:12:55\n",
       "338620  224892326 2020-06-20 09:12:55\n",
       "338621  224892327 2020-06-20 09:12:55\n",
       "\n",
       "[338622 rows x 2 columns]"
      ]
     },
     "metadata": {},
     "output_type": "display_data"
    }
   ],
   "source": [
    "df_commonmarkedits = pd.read_csv('data/database_export/PostHistoryId_CommonMark.tsv', sep='\\t')\n",
    "df_commonmarkedits.CreationDate = pd.to_datetime(df_commonmarkedits.CreationDate)\n",
    "display(df_commonmarkedits)"
   ]
  },
  {
   "cell_type": "code",
   "execution_count": 38,
   "id": "1daf1d47ec33344e",
   "metadata": {
    "ExecuteTime": {
     "end_time": "2024-07-22T16:48:27.767060Z",
     "start_time": "2024-07-22T16:48:27.738096Z"
    }
   },
   "outputs": [],
   "source": [
    "# Save df_commonmarkedits to feather file\n",
    "df_commonmarkedits.to_feather('data/feather_files/PostHistoryId_CommonMark.feather')"
   ]
  },
  {
   "cell_type": "markdown",
   "id": "ec52531884166b0b",
   "metadata": {},
   "source": [
    "# Tags September 2023"
   ]
  },
  {
   "cell_type": "code",
   "execution_count": 39,
   "id": "685984b61e18e332",
   "metadata": {
    "ExecuteTime": {
     "end_time": "2024-07-24T14:00:58.302547Z",
     "start_time": "2024-07-24T14:00:30.322340Z"
    }
   },
   "outputs": [],
   "source": [
    "df_tags = pd.read_csv('data/database_export/Tags_September_2023.csv', parse_dates=True)"
   ]
  },
  {
   "cell_type": "code",
   "execution_count": 40,
   "id": "5f9f0838a6d85ab7",
   "metadata": {
    "ExecuteTime": {
     "end_time": "2024-07-24T14:01:04.676385Z",
     "start_time": "2024-07-24T14:01:04.655139Z"
    }
   },
   "outputs": [
    {
     "data": {
      "text/plain": [
       "Index(['QuestionId', 'Tags', 'CreationDate'], dtype='object')"
      ]
     },
     "metadata": {},
     "output_type": "display_data"
    }
   ],
   "source": [
    "display(df_tags.columns)"
   ]
  },
  {
   "cell_type": "code",
   "execution_count": 41,
   "id": "f4d78aab82609dd7",
   "metadata": {
    "ExecuteTime": {
     "end_time": "2024-07-24T14:01:13.779709Z",
     "start_time": "2024-07-24T14:01:13.770906Z"
    }
   },
   "outputs": [
    {
     "data": {
      "text/html": [
       "<div>\n",
       "<style scoped>\n",
       "    .dataframe tbody tr th:only-of-type {\n",
       "        vertical-align: middle;\n",
       "    }\n",
       "\n",
       "    .dataframe tbody tr th {\n",
       "        vertical-align: top;\n",
       "    }\n",
       "\n",
       "    .dataframe thead th {\n",
       "        text-align: right;\n",
       "    }\n",
       "</style>\n",
       "<table border=\"1\" class=\"dataframe\">\n",
       "  <thead>\n",
       "    <tr style=\"text-align: right;\">\n",
       "      <th></th>\n",
       "      <th>QuestionId</th>\n",
       "      <th>Tags</th>\n",
       "      <th>CreationDate</th>\n",
       "    </tr>\n",
       "  </thead>\n",
       "  <tbody>\n",
       "    <tr>\n",
       "      <th>0</th>\n",
       "      <td>4</td>\n",
       "      <td>&lt;c#&gt;&lt;floating-point&gt;&lt;type-conversion&gt;&lt;double&gt;&lt;...</td>\n",
       "      <td>2008-07-31 21:42:52</td>\n",
       "    </tr>\n",
       "    <tr>\n",
       "      <th>1</th>\n",
       "      <td>6</td>\n",
       "      <td>&lt;html&gt;&lt;css&gt;&lt;internet-explorer-7&gt;</td>\n",
       "      <td>2008-07-31 22:08:08</td>\n",
       "    </tr>\n",
       "    <tr>\n",
       "      <th>2</th>\n",
       "      <td>9</td>\n",
       "      <td>&lt;c#&gt;&lt;.net&gt;&lt;datetime&gt;</td>\n",
       "      <td>2008-07-31 23:40:59</td>\n",
       "    </tr>\n",
       "    <tr>\n",
       "      <th>3</th>\n",
       "      <td>11</td>\n",
       "      <td>&lt;c#&gt;&lt;datetime&gt;&lt;time&gt;&lt;datediff&gt;&lt;relative-time-s...</td>\n",
       "      <td>2008-07-31 23:55:37</td>\n",
       "    </tr>\n",
       "    <tr>\n",
       "      <th>4</th>\n",
       "      <td>13</td>\n",
       "      <td>&lt;html&gt;&lt;browser&gt;&lt;timezone&gt;&lt;user-agent&gt;&lt;timezone...</td>\n",
       "      <td>2008-08-01 00:42:38</td>\n",
       "    </tr>\n",
       "  </tbody>\n",
       "</table>\n",
       "</div>"
      ],
      "text/plain": [
       "   QuestionId                                               Tags  \\\n",
       "0           4  <c#><floating-point><type-conversion><double><...   \n",
       "1           6                   <html><css><internet-explorer-7>   \n",
       "2           9                               <c#><.net><datetime>   \n",
       "3          11  <c#><datetime><time><datediff><relative-time-s...   \n",
       "4          13  <html><browser><timezone><user-agent><timezone...   \n",
       "\n",
       "          CreationDate  \n",
       "0  2008-07-31 21:42:52  \n",
       "1  2008-07-31 22:08:08  \n",
       "2  2008-07-31 23:40:59  \n",
       "3  2008-07-31 23:55:37  \n",
       "4  2008-08-01 00:42:38  "
      ]
     },
     "metadata": {},
     "output_type": "display_data"
    }
   ],
   "source": [
    "display(df_tags.head())"
   ]
  },
  {
   "cell_type": "code",
   "execution_count": 42,
   "id": "e865252aa6bb98bd",
   "metadata": {
    "ExecuteTime": {
     "end_time": "2024-07-24T14:01:32.238502Z",
     "start_time": "2024-07-24T14:01:23.904671Z"
    }
   },
   "outputs": [],
   "source": [
    "# Save df_tags to feather file\n",
    "df_tags.to_feather('data/feather_files/Tags_September_2023.feather')"
   ]
  }
 ],
 "metadata": {
  "kernelspec": {
   "display_name": "base",
   "language": "python",
   "name": "python3"
  },
  "language_info": {
   "codemirror_mode": {
    "name": "ipython",
    "version": 3
   },
   "file_extension": ".py",
   "mimetype": "text/x-python",
   "name": "python",
   "nbconvert_exporter": "python",
   "pygments_lexer": "ipython3",
   "version": "3.11.5"
  }
 },
 "nbformat": 4,
 "nbformat_minor": 5
}
